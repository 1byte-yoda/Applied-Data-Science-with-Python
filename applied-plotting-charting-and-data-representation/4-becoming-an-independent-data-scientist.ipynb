{
 "cells": [
  {
   "cell_type": "markdown",
   "metadata": {},
   "source": [
    "# Assignment 4\n",
    "\n",
    "Before working on this assignment please read these instructions fully. In the submission area, you will notice that you can click the link to **Preview the Grading** for each step of the assignment. This is the criteria that will be used for peer grading. Please familiarize yourself with the criteria before beginning the assignment.\n",
    "\n",
    "This assignment requires that you to find **at least** two datasets on the web which are related, and that you visualize these datasets to answer a question with the broad topic of **weather phenomena** (see below) for the region of **Ann Arbor, Michigan, United States**, or **United States** more broadly.\n",
    "\n",
    "You can merge these datasets with data from different regions if you like! For instance, you might want to compare **Ann Arbor, Michigan, United States** to Ann Arbor, USA. In that case at least one source file must be about **Ann Arbor, Michigan, United States**.\n",
    "\n",
    "You are welcome to choose datasets at your discretion, but keep in mind **they will be shared with your peers**, so choose appropriate datasets. Sensitive, confidential, illicit, and proprietary materials are not good choices for datasets for this assignment. You are welcome to upload datasets of your own as well, and link to them using a third party repository such as github, bitbucket, pastebin, etc. Please be aware of the Coursera terms of service with respect to intellectual property.\n",
    "\n",
    "Also, you are welcome to preserve data in its original language, but for the purposes of grading you should provide english translations. You are welcome to provide multiple visuals in different languages if you would like!\n",
    "\n",
    "As this assignment is for the whole course, you must incorporate principles discussed in the first week, such as having as high data-ink ratio (Tufte) and aligning with Cairo’s principles of truth, beauty, function, and insight.\n",
    "\n",
    "Here are the assignment instructions:\n",
    "\n",
    " * State the region and the domain category that your data sets are about (e.g., **Ann Arbor, Michigan, United States** and **weather phenomena**).\n",
    " * You must state a question about the domain category and region that you identified as being interesting.\n",
    " * You must provide at least two links to available datasets. These could be links to files such as CSV or Excel files, or links to websites which might have data in tabular form, such as Wikipedia pages.\n",
    " * You must upload an image which addresses the research question you stated. In addition to addressing the question, this visual should follow Cairo's principles of truthfulness, functionality, beauty, and insightfulness.\n",
    " * You must contribute a short (1-2 paragraph) written justification of how your visualization addresses your stated research question.\n",
    "\n",
    "What do we mean by **weather phenomena**?  For this category you might want to consider seasonal changes, natural disasters, or historical trends.\n",
    "\n",
    "## Tips\n",
    "* Wikipedia is an excellent source of data, and I strongly encourage you to explore it for new data sources.\n",
    "* Many governments run open data initiatives at the city, region, and country levels, and these are wonderful resources for localized data sources.\n",
    "* Several international agencies, such as the [United Nations](http://data.un.org/), the [World Bank](http://data.worldbank.org/), the [Global Open Data Index](http://index.okfn.org/place/) are other great places to look for data.\n",
    "* This assignment requires you to convert and clean datafiles. Check out the discussion forums for tips on how to do this from various sources, and share your successes with your fellow students!\n",
    "\n",
    "## Example\n",
    "Looking for an example? Here's what our course assistant put together for the **Ann Arbor, MI, USA** area using **sports and athletics** as the topic. [Example Solution File](./readonly/Assignment4_example.pdf)"
   ]
  },
  {
   "cell_type": "code",
   "execution_count": 1,
   "metadata": {},
   "outputs": [],
   "source": [
    "import pandas as pd\n",
    "import matplotlib.pyplot as plt\n",
    "import numpy as np\n",
    "%matplotlib notebook"
   ]
  },
  {
   "cell_type": "markdown",
   "metadata": {},
   "source": [
    "## Question\n",
    "How does the weather season affects the number of bike trips in Austin, Texas during the year between 2014 and 2016?"
   ]
  },
  {
   "cell_type": "markdown",
   "metadata": {},
   "source": [
    " ## Loading Weather and Bike Trips Dataset from Austin, Texas\n"
   ]
  },
  {
   "cell_type": "code",
   "execution_count": 2,
   "metadata": {},
   "outputs": [],
   "source": [
    "df_austin_trips = pd.read_csv('dataset/austin_bikeshare_trips.csv')\n",
    "df_austin_weather = pd.read_csv('dataset/austin_weather.csv')"
   ]
  },
  {
   "cell_type": "markdown",
   "metadata": {},
   "source": [
    "### Preprocess Data"
   ]
  },
  {
   "cell_type": "code",
   "execution_count": 3,
   "metadata": {},
   "outputs": [
    {
     "data": {
      "text/html": [
       "<div>\n",
       "<style scoped>\n",
       "    .dataframe tbody tr th:only-of-type {\n",
       "        vertical-align: middle;\n",
       "    }\n",
       "\n",
       "    .dataframe tbody tr th {\n",
       "        vertical-align: top;\n",
       "    }\n",
       "\n",
       "    .dataframe thead th {\n",
       "        text-align: right;\n",
       "    }\n",
       "</style>\n",
       "<table border=\"1\" class=\"dataframe\">\n",
       "  <thead>\n",
       "    <tr style=\"text-align: right;\">\n",
       "      <th></th>\n",
       "      <th>bikeid</th>\n",
       "      <th>duration_minutes</th>\n",
       "      <th>end_station_id</th>\n",
       "      <th>month</th>\n",
       "      <th>start_station_id</th>\n",
       "      <th>trip_id</th>\n",
       "      <th>year</th>\n",
       "    </tr>\n",
       "  </thead>\n",
       "  <tbody>\n",
       "    <tr>\n",
       "      <th>count</th>\n",
       "      <td>648508.000000</td>\n",
       "      <td>649231.000000</td>\n",
       "      <td>629389.000000</td>\n",
       "      <td>618479.000000</td>\n",
       "      <td>630190.000000</td>\n",
       "      <td>6.492310e+05</td>\n",
       "      <td>618479.000000</td>\n",
       "    </tr>\n",
       "    <tr>\n",
       "      <th>mean</th>\n",
       "      <td>471.615214</td>\n",
       "      <td>29.127506</td>\n",
       "      <td>2582.470617</td>\n",
       "      <td>5.887185</td>\n",
       "      <td>2584.238288</td>\n",
       "      <td>5.384945e+09</td>\n",
       "      <td>2015.340026</td>\n",
       "    </tr>\n",
       "    <tr>\n",
       "      <th>std</th>\n",
       "      <td>323.588379</td>\n",
       "      <td>87.278642</td>\n",
       "      <td>319.898534</td>\n",
       "      <td>3.206358</td>\n",
       "      <td>320.840964</td>\n",
       "      <td>4.925349e+09</td>\n",
       "      <td>1.019771</td>\n",
       "    </tr>\n",
       "    <tr>\n",
       "      <th>min</th>\n",
       "      <td>3.000000</td>\n",
       "      <td>0.000000</td>\n",
       "      <td>1001.000000</td>\n",
       "      <td>1.000000</td>\n",
       "      <td>1001.000000</td>\n",
       "      <td>8.269930e+06</td>\n",
       "      <td>2013.000000</td>\n",
       "    </tr>\n",
       "    <tr>\n",
       "      <th>25%</th>\n",
       "      <td>208.000000</td>\n",
       "      <td>8.000000</td>\n",
       "      <td>2499.000000</td>\n",
       "      <td>3.000000</td>\n",
       "      <td>2501.000000</td>\n",
       "      <td>1.274709e+07</td>\n",
       "      <td>2014.000000</td>\n",
       "    </tr>\n",
       "    <tr>\n",
       "      <th>50%</th>\n",
       "      <td>417.000000</td>\n",
       "      <td>15.000000</td>\n",
       "      <td>2548.000000</td>\n",
       "      <td>5.000000</td>\n",
       "      <td>2549.000000</td>\n",
       "      <td>9.900028e+09</td>\n",
       "      <td>2015.000000</td>\n",
       "    </tr>\n",
       "    <tr>\n",
       "      <th>75%</th>\n",
       "      <td>745.000000</td>\n",
       "      <td>28.000000</td>\n",
       "      <td>2571.000000</td>\n",
       "      <td>9.000000</td>\n",
       "      <td>2571.000000</td>\n",
       "      <td>9.900190e+09</td>\n",
       "      <td>2016.000000</td>\n",
       "    </tr>\n",
       "    <tr>\n",
       "      <th>max</th>\n",
       "      <td>5089.000000</td>\n",
       "      <td>21296.000000</td>\n",
       "      <td>3687.000000</td>\n",
       "      <td>12.000000</td>\n",
       "      <td>3687.000000</td>\n",
       "      <td>9.900353e+09</td>\n",
       "      <td>2017.000000</td>\n",
       "    </tr>\n",
       "  </tbody>\n",
       "</table>\n",
       "</div>"
      ],
      "text/plain": [
       "              bikeid  duration_minutes  end_station_id          month  \\\n",
       "count  648508.000000     649231.000000   629389.000000  618479.000000   \n",
       "mean      471.615214         29.127506     2582.470617       5.887185   \n",
       "std       323.588379         87.278642      319.898534       3.206358   \n",
       "min         3.000000          0.000000     1001.000000       1.000000   \n",
       "25%       208.000000          8.000000     2499.000000       3.000000   \n",
       "50%       417.000000         15.000000     2548.000000       5.000000   \n",
       "75%       745.000000         28.000000     2571.000000       9.000000   \n",
       "max      5089.000000      21296.000000     3687.000000      12.000000   \n",
       "\n",
       "       start_station_id       trip_id           year  \n",
       "count     630190.000000  6.492310e+05  618479.000000  \n",
       "mean        2584.238288  5.384945e+09    2015.340026  \n",
       "std          320.840964  4.925349e+09       1.019771  \n",
       "min         1001.000000  8.269930e+06    2013.000000  \n",
       "25%         2501.000000  1.274709e+07    2014.000000  \n",
       "50%         2549.000000  9.900028e+09    2015.000000  \n",
       "75%         2571.000000  9.900190e+09    2016.000000  \n",
       "max         3687.000000  9.900353e+09    2017.000000  "
      ]
     },
     "execution_count": 3,
     "metadata": {},
     "output_type": "execute_result"
    }
   ],
   "source": [
    "df_austin_trips.describe()"
   ]
  },
  {
   "cell_type": "code",
   "execution_count": 4,
   "metadata": {},
   "outputs": [
    {
     "name": "stderr",
     "output_type": "stream",
     "text": [
      "C:\\ProgramData\\Anaconda3\\lib\\site-packages\\ipykernel_launcher.py:3: SettingWithCopyWarning: \n",
      "A value is trying to be set on a copy of a slice from a DataFrame.\n",
      "Try using .loc[row_indexer,col_indexer] = value instead\n",
      "\n",
      "See the caveats in the documentation: http://pandas.pydata.org/pandas-docs/stable/indexing.html#indexing-view-versus-copy\n",
      "  This is separate from the ipykernel package so we can avoid doing imports until\n"
     ]
    }
   ],
   "source": [
    "# Fetch 2014 to 2016 data only\n",
    "df_austin_trips_2014_2016 = df_austin_trips[df_austin_trips['year'].between(2014, 2016)]\n",
    "df_austin_trips_2014_2016['start_time'] = pd.to_datetime(df_austin_trips_2014_2016['start_time'])\n",
    "df_austin_trips_2014_2016 = df_austin_trips_2014_2016.resample('M', on='start_time').agg({'trip_id': 'count', 'duration_minutes': 'mean'})"
   ]
  },
  {
   "cell_type": "code",
   "execution_count": 5,
   "metadata": {},
   "outputs": [],
   "source": [
    "df_austin_weather['Date'] = pd.to_datetime(df_austin_weather['Date'])\n",
    "df_austin_weather['TempAvgF'] = (5/9) * (df_austin_weather['TempAvgF'] - 32)"
   ]
  },
  {
   "cell_type": "code",
   "execution_count": 6,
   "metadata": {},
   "outputs": [],
   "source": [
    "df_austin_weather = df_austin_weather[df_austin_weather['Date'].between('2014', '2016-12-31')]\n",
    "df_austin_weather_2014_2016 = df_austin_weather.resample('M', on='Date').mean()"
   ]
  },
  {
   "cell_type": "code",
   "execution_count": null,
   "metadata": {},
   "outputs": [],
   "source": []
  },
  {
   "cell_type": "code",
   "execution_count": 7,
   "metadata": {},
   "outputs": [],
   "source": [
    "df_austin_weather_2014_2016 = df_austin_weather_2014_2016[['TempAvgF']]"
   ]
  },
  {
   "cell_type": "code",
   "execution_count": 8,
   "metadata": {},
   "outputs": [],
   "source": [
    "combined_df = pd.merge(df_austin_trips_2014_2016, df_austin_weather_2014_2016, left_index=True, right_index=True)"
   ]
  },
  {
   "cell_type": "code",
   "execution_count": 9,
   "metadata": {},
   "outputs": [
    {
     "data": {
      "image/png": "[encoded data removed]",
      "text/plain": [
       "<Figure size 864x360 with 2 Axes>"
      ]
     },
     "metadata": {
      "needs_background": "light"
     },
     "output_type": "display_data"
    }
   ],
   "source": [
    "plt.figure(figsize=(12,5))\n",
    "sc = plt.scatter(combined_df.index,\n",
    "                 combined_df['trip_id'], alpha=0.4, \n",
    "                 s=(0.2*(combined_df['TempAvgF']*12)**2)/combined_df['duration_minutes'],\n",
    "                 label='Temperature', cmap=plt.cm.cool, c=combined_df['TempAvgF'])\n",
    "\n",
    "plt.grid(True)\n",
    "plt.xlabel('Month')\n",
    "plt.ylabel('Number of Trips')\n",
    "plt.title('Relationship Between Temperature and Number of Trips in Austin, Texas')\n",
    "cbar = plt.colorbar(sc);\n",
    "cbar.set_label('Average Temperature (Celcius)');\n"
   ]
  },
  {
   "cell_type": "code",
   "execution_count": null,
   "metadata": {},
   "outputs": [],
   "source": []
  }
 ],
 "metadata": {
  "kernelspec": {
   "display_name": "Python 3",
   "language": "python",
   "name": "python3"
  },
  "language_info": {
   "codemirror_mode": {
    "name": "ipython",
    "version": 3
   },
   "file_extension": ".py",
   "mimetype": "text/x-python",
   "name": "python",
   "nbconvert_exporter": "python",
   "pygments_lexer": "ipython3",
   "version": "3.7.0"
  }
 },
 "nbformat": 4,
 "nbformat_minor": 1
}
